{
 "cells": [
  {
   "cell_type": "markdown",
   "source": [
    "# Сергей Зотов AIN-2-22"
   ],
   "metadata": {
    "collapsed": false
   }
  },
  {
   "cell_type": "code",
   "execution_count": 2,
   "metadata": {
    "collapsed": true,
    "jupyter": {
     "outputs_hidden": true
    }
   },
   "outputs": [
    {
     "name": "stdout",
     "output_type": "stream",
     "text": [
      "hello\n"
     ]
    }
   ],
   "source": [
    "print('hello')"
   ]
  },
  {
   "cell_type": "markdown",
   "metadata": {
    "collapsed": false,
    "jupyter": {
     "outputs_hidden": false
    }
   },
   "source": [
    "# Getting start with Jupyter Python\n",
    "\n",
    "## We have done\n",
    "* Install [Python](https://www.python.org/downloads/) 3.10\n",
    "* Install Jupyter Python in PyCharm\n"
   ]
  },
  {
   "cell_type": "code",
   "execution_count": 3,
   "metadata": {
    "collapsed": false,
    "jupyter": {
     "outputs_hidden": false
    }
   },
   "outputs": [],
   "source": [
    "print?"
   ]
  },
  {
   "cell_type": "code",
   "execution_count": 7,
   "metadata": {
    "collapsed": false,
    "jupyter": {
     "outputs_hidden": false
    }
   },
   "outputs": [],
   "source": [
    "i=2"
   ]
  },
  {
   "cell_type": "code",
   "execution_count": 8,
   "metadata": {
    "collapsed": false,
    "jupyter": {
     "outputs_hidden": false
    }
   },
   "outputs": [
    {
     "name": "stdout",
     "output_type": "stream",
     "text": [
      "2\n"
     ]
    }
   ],
   "source": [
    "print(i)"
   ]
  },
  {
   "cell_type": "code",
   "execution_count": 9,
   "metadata": {
    "collapsed": false,
    "jupyter": {
     "outputs_hidden": false
    }
   },
   "outputs": [
    {
     "name": "stdout",
     "output_type": "stream",
     "text": [
      "<class 'int'>\n"
     ]
    }
   ],
   "source": [
    "a = 8\n",
    "t = type(a)\n",
    "print(t)"
   ]
  },
  {
   "cell_type": "markdown",
   "metadata": {
    "collapsed": false,
    "jupyter": {
     "outputs_hidden": false
    }
   },
   "source": [
    "## Create some variables in Python"
   ]
  },
  {
   "cell_type": "code",
   "execution_count": null,
   "metadata": {
    "collapsed": false,
    "jupyter": {
     "outputs_hidden": false
    }
   },
   "outputs": [],
   "source": [
    "i = 4"
   ]
  },
  {
   "cell_type": "code",
   "execution_count": null,
   "metadata": {
    "collapsed": false,
    "jupyter": {
     "outputs_hidden": false
    }
   },
   "outputs": [],
   "source": [
    "type(i)"
   ]
  },
  {
   "cell_type": "code",
   "execution_count": null,
   "metadata": {
    "collapsed": false,
    "jupyter": {
     "outputs_hidden": false
    }
   },
   "outputs": [],
   "source": [
    "f = 4.1 #float"
   ]
  },
  {
   "cell_type": "code",
   "execution_count": null,
   "metadata": {
    "collapsed": false,
    "jupyter": {
     "outputs_hidden": false
    }
   },
   "outputs": [],
   "source": [
    "type(f)"
   ]
  },
  {
   "cell_type": "code",
   "execution_count": null,
   "metadata": {
    "collapsed": false,
    "jupyter": {
     "outputs_hidden": false
    }
   },
   "outputs": [],
   "source": [
    "b = True #boolean"
   ]
  },
  {
   "cell_type": "code",
   "execution_count": null,
   "metadata": {
    "collapsed": false,
    "jupyter": {
     "outputs_hidden": false
    }
   },
   "outputs": [],
   "source": [
    "s = \"This is a string!\""
   ]
  },
  {
   "cell_type": "code",
   "execution_count": null,
   "metadata": {
    "collapsed": false,
    "jupyter": {
     "outputs_hidden": false
    }
   },
   "outputs": [],
   "source": [
    "print(s)"
   ]
  },
  {
   "cell_type": "markdown",
   "metadata": {
    "collapsed": false,
    "jupyter": {
     "outputs_hidden": false
    }
   },
   "source": [
    "## Advanced python types"
   ]
  },
  {
   "cell_type": "code",
   "execution_count": null,
   "metadata": {
    "collapsed": false,
    "jupyter": {
     "outputs_hidden": false
    }
   },
   "outputs": [],
   "source": [
    "l = [3,1,2] #list"
   ]
  },
  {
   "cell_type": "code",
   "execution_count": null,
   "metadata": {
    "collapsed": false,
    "jupyter": {
     "outputs_hidden": false
    }
   },
   "outputs": [],
   "source": [
    "print(l)"
   ]
  },
  {
   "cell_type": "code",
   "execution_count": null,
   "metadata": {
    "collapsed": false,
    "jupyter": {
     "outputs_hidden": false
    }
   },
   "outputs": [],
   "source": [
    "d = {'foo':1, 'bar':2.3, 's':'my dirst dictionary'} #dictionary"
   ]
  },
  {
   "cell_type": "code",
   "execution_count": null,
   "metadata": {
    "collapsed": false,
    "jupyter": {
     "outputs_hidden": false
    }
   },
   "outputs": [],
   "source": [
    "print(d)"
   ]
  },
  {
   "cell_type": "code",
   "execution_count": null,
   "metadata": {
    "collapsed": false,
    "jupyter": {
     "outputs_hidden": false
    }
   },
   "outputs": [],
   "source": [
    "print(d['foo']) #element of a dictionary"
   ]
  },
  {
   "cell_type": "code",
   "execution_count": null,
   "metadata": {
    "collapsed": false,
    "jupyter": {
     "outputs_hidden": false
    }
   },
   "outputs": [],
   "source": [
    "n = None #Python's null type"
   ]
  },
  {
   "cell_type": "code",
   "execution_count": null,
   "metadata": {
    "collapsed": false,
    "jupyter": {
     "outputs_hidden": false
    }
   },
   "outputs": [],
   "source": [
    "type(n)"
   ]
  },
  {
   "cell_type": "markdown",
   "metadata": {
    "collapsed": false,
    "jupyter": {
     "outputs_hidden": false
    }
   },
   "source": [
    "## Для выполнения элементарных математических функций необходимо подключить библиотеку math"
   ]
  },
  {
   "cell_type": "code",
   "execution_count": 15,
   "metadata": {
    "collapsed": false,
    "jupyter": {
     "outputs_hidden": false
    }
   },
   "outputs": [
    {
     "name": "stdout",
     "output_type": "stream",
     "text": [
      "Возведение числа 10 в квадрат 100.0\n"
     ]
    }
   ],
   "source": [
    "import math\n",
    "p = math.pow(10,2)\n",
    "print('Возведение числа 10 в квадрат', p)"
   ]
  },
  {
   "cell_type": "markdown",
   "metadata": {
    "collapsed": false,
    "jupyter": {
     "outputs_hidden": false
    }
   },
   "source": [
    "### Примеры"
   ]
  },
  {
   "cell_type": "code",
   "execution_count": 16,
   "metadata": {
    "collapsed": false,
    "jupyter": {
     "outputs_hidden": false
    }
   },
   "outputs": [
    {
     "name": "stdout",
     "output_type": "stream",
     "text": [
      "Квадратный корень из 25 равен 5.0\n"
     ]
    }
   ],
   "source": [
    "n = 25\n",
    "sqrt = math.sqrt(n)\n",
    "print(f\"Квадратный корень из {n} равен {sqrt}\")"
   ]
  },
  {
   "cell_type": "code",
   "execution_count": 17,
   "metadata": {
    "collapsed": false,
    "jupyter": {
     "outputs_hidden": false
    }
   },
   "outputs": [
    {
     "name": "stdout",
     "output_type": "stream",
     "text": [
      "Факториал числа 5 равен 120\n"
     ]
    }
   ],
   "source": [
    "n = 5\n",
    "factorial = math.factorial(n)\n",
    "print(f\"Факториал числа {n} равен {factorial}\")"
   ]
  },
  {
   "cell_type": "code",
   "execution_count": 18,
   "metadata": {
    "collapsed": false,
    "jupyter": {
     "outputs_hidden": false
    }
   },
   "outputs": [
    {
     "name": "stdout",
     "output_type": "stream",
     "text": [
      "Экспонента числа 2 равна 7.38905609893065\n"
     ]
    }
   ],
   "source": [
    "exp = math.exp(2)\n",
    "print(f\"Экспонента числа 2 равна {exp}\")"
   ]
  },
  {
   "cell_type": "markdown",
   "metadata": {
    "collapsed": false,
    "jupyter": {
     "outputs_hidden": false
    }
   },
   "source": [
    "## Advanced printing"
   ]
  },
  {
   "cell_type": "code",
   "execution_count": 19,
   "metadata": {
    "collapsed": false,
    "jupyter": {
     "outputs_hidden": false
    }
   },
   "outputs": [
    {
     "name": "stdout",
     "output_type": "stream",
     "text": [
      "Our first value is False. Our second value is 7.\n"
     ]
    }
   ],
   "source": [
    "i = 7\n",
    "n = False\n",
    "print('Our first value is %s. Our second value is %s.' %(n,i))"
   ]
  },
  {
   "cell_type": "markdown",
   "metadata": {
    "collapsed": false,
    "jupyter": {
     "outputs_hidden": false
    }
   },
   "source": [
    "## Conditional statements in Python"
   ]
  },
  {
   "cell_type": "code",
   "execution_count": 20,
   "metadata": {
    "collapsed": false,
    "jupyter": {
     "outputs_hidden": false
    }
   },
   "outputs": [
    {
     "name": "stdout",
     "output_type": "stream",
     "text": [
      "i or f are both greater than 4.\n"
     ]
    }
   ],
   "source": [
    "i = 4\n",
    "f = 4.1\n",
    "if i == 1 and f > 4:\n",
    "    print(\"The value of i is 1 and f is greater than 4.\")\n",
    "if i > 4 or f > 4:\n",
    "    print(\"i or f are both greater than 4.\")\n",
    "else:\n",
    "    print(\"both i and f are less than or equal to 4.\")"
   ]
  },
  {
   "cell_type": "markdown",
   "metadata": {
    "collapsed": false,
    "jupyter": {
     "outputs_hidden": false
    }
   },
   "source": [
    "## Conditional loops"
   ]
  },
  {
   "cell_type": "code",
   "execution_count": 21,
   "metadata": {
    "collapsed": false,
    "jupyter": {
     "outputs_hidden": false
    }
   },
   "outputs": [
    {
     "name": "stdout",
     "output_type": "stream",
     "text": [
      "[3, 1, 2]\n"
     ]
    }
   ],
   "source": [
    "l = [3,1,2] #list\n",
    "print(l)"
   ]
  },
  {
   "cell_type": "code",
   "execution_count": 22,
   "metadata": {
    "collapsed": false,
    "jupyter": {
     "outputs_hidden": false
    }
   },
   "outputs": [
    {
     "name": "stdout",
     "output_type": "stream",
     "text": [
      "3\n",
      "1\n",
      "2\n"
     ]
    }
   ],
   "source": [
    "for e in l:\n",
    "    print(e)"
   ]
  },
  {
   "cell_type": "code",
   "execution_count": 23,
   "metadata": {
    "collapsed": false,
    "jupyter": {
     "outputs_hidden": false
    }
   },
   "outputs": [
    {
     "name": "stdout",
     "output_type": "stream",
     "text": [
      "Числа от 0 до 99: 0\n",
      "Числа от 0 до 99: 1\n",
      "Числа от 0 до 99: 2\n",
      "Числа от 0 до 99: 3\n",
      "Числа от 0 до 99: 4\n",
      "Числа от 0 до 99: 5\n",
      "Числа от 0 до 99: 6\n",
      "Числа от 0 до 99: 7\n",
      "Числа от 0 до 99: 8\n",
      "Числа от 0 до 99: 9\n",
      "Числа от 0 до 99: 10\n",
      "Числа от 0 до 99: 11\n",
      "Числа от 0 до 99: 12\n",
      "Числа от 0 до 99: 13\n",
      "Числа от 0 до 99: 14\n",
      "Числа от 0 до 99: 15\n",
      "Числа от 0 до 99: 16\n",
      "Числа от 0 до 99: 17\n",
      "Числа от 0 до 99: 18\n",
      "Числа от 0 до 99: 19\n",
      "Числа от 0 до 99: 20\n",
      "Числа от 0 до 99: 21\n",
      "Числа от 0 до 99: 22\n",
      "Числа от 0 до 99: 23\n",
      "Числа от 0 до 99: 24\n",
      "Числа от 0 до 99: 25\n",
      "Числа от 0 до 99: 26\n",
      "Числа от 0 до 99: 27\n",
      "Числа от 0 до 99: 28\n",
      "Числа от 0 до 99: 29\n",
      "Числа от 0 до 99: 30\n",
      "Числа от 0 до 99: 31\n",
      "Числа от 0 до 99: 32\n",
      "Числа от 0 до 99: 33\n",
      "Числа от 0 до 99: 34\n",
      "Числа от 0 до 99: 35\n",
      "Числа от 0 до 99: 36\n",
      "Числа от 0 до 99: 37\n",
      "Числа от 0 до 99: 38\n",
      "Числа от 0 до 99: 39\n",
      "Числа от 0 до 99: 40\n",
      "Числа от 0 до 99: 41\n",
      "Числа от 0 до 99: 42\n",
      "Числа от 0 до 99: 43\n",
      "Числа от 0 до 99: 44\n",
      "Числа от 0 до 99: 45\n",
      "Числа от 0 до 99: 46\n",
      "Числа от 0 до 99: 47\n",
      "Числа от 0 до 99: 48\n",
      "Числа от 0 до 99: 49\n",
      "Числа от 0 до 99: 50\n",
      "Числа от 0 до 99: 51\n",
      "Числа от 0 до 99: 52\n",
      "Числа от 0 до 99: 53\n",
      "Числа от 0 до 99: 54\n",
      "Числа от 0 до 99: 55\n",
      "Числа от 0 до 99: 56\n",
      "Числа от 0 до 99: 57\n",
      "Числа от 0 до 99: 58\n",
      "Числа от 0 до 99: 59\n",
      "Числа от 0 до 99: 60\n",
      "Числа от 0 до 99: 61\n",
      "Числа от 0 до 99: 62\n",
      "Числа от 0 до 99: 63\n",
      "Числа от 0 до 99: 64\n",
      "Числа от 0 до 99: 65\n",
      "Числа от 0 до 99: 66\n",
      "Числа от 0 до 99: 67\n",
      "Числа от 0 до 99: 68\n",
      "Числа от 0 до 99: 69\n",
      "Числа от 0 до 99: 70\n",
      "Числа от 0 до 99: 71\n",
      "Числа от 0 до 99: 72\n",
      "Числа от 0 до 99: 73\n",
      "Числа от 0 до 99: 74\n",
      "Числа от 0 до 99: 75\n",
      "Числа от 0 до 99: 76\n",
      "Числа от 0 до 99: 77\n",
      "Числа от 0 до 99: 78\n",
      "Числа от 0 до 99: 79\n",
      "Числа от 0 до 99: 80\n",
      "Числа от 0 до 99: 81\n",
      "Числа от 0 до 99: 82\n",
      "Числа от 0 до 99: 83\n",
      "Числа от 0 до 99: 84\n",
      "Числа от 0 до 99: 85\n",
      "Числа от 0 до 99: 86\n",
      "Числа от 0 до 99: 87\n",
      "Числа от 0 до 99: 88\n",
      "Числа от 0 до 99: 89\n",
      "Числа от 0 до 99: 90\n",
      "Числа от 0 до 99: 91\n",
      "Числа от 0 до 99: 92\n",
      "Числа от 0 до 99: 93\n",
      "Числа от 0 до 99: 94\n",
      "Числа от 0 до 99: 95\n",
      "Числа от 0 до 99: 96\n",
      "Числа от 0 до 99: 97\n",
      "Числа от 0 до 99: 98\n",
      "Числа от 0 до 99: 99\n"
     ]
    }
   ],
   "source": [
    "for n in range(100):\n",
    "    print('Числа от 0 до 99:', n)"
   ]
  },
  {
   "cell_type": "code",
   "execution_count": 24,
   "metadata": {
    "collapsed": false,
    "jupyter": {
     "outputs_hidden": false
    }
   },
   "outputs": [
    {
     "name": "stdout",
     "output_type": "stream",
     "text": [
      "Number 0\n",
      "Number 1\n",
      "Number 2\n",
      "Number 3\n",
      "Number 4\n",
      "Number 5\n",
      "Number 6\n",
      "Number 7\n",
      "Number 8\n",
      "Number 9\n",
      "Number 10\n",
      "Number 11\n",
      "Number 12\n",
      "Number 13\n"
     ]
    },
    {
     "ename": "KeyboardInterrupt",
     "evalue": "",
     "output_type": "error",
     "traceback": [
      "\u001B[1;31m---------------------------------------------------------------------------\u001B[0m",
      "\u001B[1;31mKeyboardInterrupt\u001B[0m                         Traceback (most recent call last)",
      "Cell \u001B[1;32mIn[24], line 3\u001B[0m\n\u001B[0;32m      1\u001B[0m \u001B[38;5;28;01mimport\u001B[39;00m \u001B[38;5;21;01mtime\u001B[39;00m\n\u001B[0;32m      2\u001B[0m \u001B[38;5;28;01mfor\u001B[39;00m n \u001B[38;5;129;01min\u001B[39;00m \u001B[38;5;28mrange\u001B[39m(\u001B[38;5;241m100\u001B[39m):\n\u001B[1;32m----> 3\u001B[0m     \u001B[43mtime\u001B[49m\u001B[38;5;241;43m.\u001B[39;49m\u001B[43msleep\u001B[49m\u001B[43m(\u001B[49m\u001B[38;5;241;43m1\u001B[39;49m\u001B[43m)\u001B[49m\n\u001B[0;32m      4\u001B[0m     \u001B[38;5;28mprint\u001B[39m(\u001B[38;5;124m'\u001B[39m\u001B[38;5;124mNumber\u001B[39m\u001B[38;5;124m'\u001B[39m, n)\n",
      "\u001B[1;31mKeyboardInterrupt\u001B[0m: "
     ]
    }
   ],
   "source": [
    "import time\n",
    "for n in range(100):\n",
    "    time.sleep(1)\n",
    "    print('Number', n)"
   ]
  },
  {
   "cell_type": "code",
   "execution_count": 26,
   "metadata": {
    "collapsed": false,
    "jupyter": {
     "outputs_hidden": false
    }
   },
   "outputs": [
    {
     "name": "stdout",
     "output_type": "stream",
     "text": [
      "6\n",
      "7\n",
      "8\n",
      "9\n"
     ]
    }
   ],
   "source": [
    "counter = 6\n",
    "while counter < 10:\n",
    "    print(counter)\n",
    "    counter += 1"
   ]
  },
  {
   "cell_type": "markdown",
   "metadata": {
    "collapsed": false,
    "jupyter": {
     "outputs_hidden": false
    }
   },
   "source": [
    "## Creating functions in Python"
   ]
  },
  {
   "cell_type": "code",
   "execution_count": 27,
   "metadata": {
    "collapsed": false,
    "jupyter": {
     "outputs_hidden": false
    }
   },
   "outputs": [],
   "source": [
    "def add2(x):\n",
    "    y = x + 2\n",
    "    return y"
   ]
  },
  {
   "cell_type": "code",
   "execution_count": 28,
   "metadata": {
    "collapsed": false,
    "jupyter": {
     "outputs_hidden": false
    }
   },
   "outputs": [],
   "source": [
    "i = 5"
   ]
  },
  {
   "cell_type": "code",
   "execution_count": 29,
   "metadata": {
    "collapsed": false,
    "jupyter": {
     "outputs_hidden": false
    }
   },
   "outputs": [
    {
     "data": {
      "text/plain": [
       "7"
      ]
     },
     "execution_count": 29,
     "metadata": {},
     "output_type": "execute_result"
    }
   ],
   "source": [
    "add2(i)"
   ]
  },
  {
   "cell_type": "markdown",
   "metadata": {
    "collapsed": false,
    "jupyter": {
     "outputs_hidden": false
    }
   },
   "source": [
    "Lambda:"
   ]
  },
  {
   "cell_type": "code",
   "execution_count": 30,
   "metadata": {
    "collapsed": false,
    "jupyter": {
     "outputs_hidden": false
    }
   },
   "outputs": [],
   "source": [
    "square = lambda x: x*x"
   ]
  },
  {
   "cell_type": "code",
   "execution_count": 31,
   "metadata": {
    "collapsed": false,
    "jupyter": {
     "outputs_hidden": false
    }
   },
   "outputs": [
    {
     "data": {
      "text/plain": [
       "25"
      ]
     },
     "execution_count": 31,
     "metadata": {},
     "output_type": "execute_result"
    }
   ],
   "source": [
    "square(5)"
   ]
  },
  {
   "cell_type": "code",
   "execution_count": 32,
   "metadata": {
    "collapsed": false,
    "jupyter": {
     "outputs_hidden": false
    }
   },
   "outputs": [
    {
     "name": "stdout",
     "output_type": "stream",
     "text": [
      "30\n"
     ]
    }
   ],
   "source": [
    "x = lambda a, b: a * b\n",
    "print(x(5,6))"
   ]
  },
  {
   "cell_type": "code",
   "execution_count": 33,
   "metadata": {
    "collapsed": false,
    "jupyter": {
     "outputs_hidden": false
    }
   },
   "outputs": [
    {
     "name": "stdout",
     "output_type": "stream",
     "text": [
      "13\n"
     ]
    }
   ],
   "source": [
    "#Example\n",
    "#Summarize argument a, b, and c and return the result:\n",
    "\n",
    "x = lambda a, b, c : a + b + c\n",
    "print(x(5,6,2))"
   ]
  },
  {
   "cell_type": "markdown",
   "metadata": {
    "collapsed": false,
    "jupyter": {
     "outputs_hidden": false
    }
   },
   "source": [
    "## Дополнительные возможности среды Jyputer Notebook\n",
    "### теги HTML"
   ]
  },
  {
   "cell_type": "markdown",
   "metadata": {
    "collapsed": false,
    "jupyter": {
     "outputs_hidden": false
    }
   },
   "source": [
    "<h1> Heading 1 </h1>\n",
    "<h2> Heading 2 </h2>\n",
    "<h3> Heading 3 </h3>\n",
    "<h4> Heading 4 </h4>\n",
    "<h5> Heading 5 </h5>\n",
    "<h6> Heading 6 </h6>"
   ]
  },
  {
   "cell_type": "markdown",
   "metadata": {
    "collapsed": false,
    "jupyter": {
     "outputs_hidden": false
    }
   },
   "source": [
    "### Вставка изображений"
   ]
  },
  {
   "cell_type": "markdown",
   "metadata": {
    "collapsed": false,
    "jupyter": {
     "outputs_hidden": false
    }
   },
   "source": [
    "<img src='Anaconda_logo.png' width='800'>"
   ]
  },
  {
   "cell_type": "markdown",
   "metadata": {
    "collapsed": false,
    "jupyter": {
     "outputs_hidden": false
    }
   },
   "source": [
    "### Вставка математических формул с помощью встроенного редактора TeX"
   ]
  },
  {
   "cell_type": "markdown",
   "metadata": {
    "collapsed": false,
    "jupyter": {
     "outputs_hidden": false
    }
   },
   "source": [
    "\\begin{equation*}\n",
    "\\left(sum_{k=1}^n a_k b_k\\right)^2\n",
    "\\end{equation*}"
   ]
  },
  {
   "cell_type": "markdown",
   "metadata": {
    "collapsed": false,
    "jupyter": {
     "outputs_hidden": false
    }
   },
   "source": [
    "\\begin{equation*}\n",
    "\\(E=mc^2\\)\n",
    "\\end{equation*}"
   ]
  },
  {
   "cell_type": "markdown",
   "metadata": {
    "collapsed": false,
    "jupyter": {
     "outputs_hidden": false
    }
   },
   "source": [
    "### Выполнение команд консоли"
   ]
  },
  {
   "cell_type": "code",
   "execution_count": 36,
   "metadata": {
    "collapsed": false,
    "jupyter": {
     "outputs_hidden": false
    }
   },
   "outputs": [
    {
     "name": "stdout",
     "output_type": "stream",
     "text": [
      "\n",
      "Windows IP Configuration\n",
      "\n",
      "\n",
      "Ethernet adapter Ethernet:\n",
      "\n",
      "   Media State . . . . . . . . . . . : Media disconnected\n",
      "   Connection-specific DNS Suffix  . : \n",
      "\n",
      "Ethernet adapter Ethernet 2:\n",
      "\n",
      "   Connection-specific DNS Suffix  . : \n",
      "   Link-local IPv6 Address . . . . . : fe80::4d41:e7e9:5beb:3c19%9\n",
      "   IPv4 Address. . . . . . . . . . . : 192.168.56.1\n",
      "   Subnet Mask . . . . . . . . . . . : 255.255.255.0\n",
      "   Default Gateway . . . . . . . . . : \n",
      "\n",
      "Wireless LAN adapter Local Area Connection* 1:\n",
      "\n",
      "   Media State . . . . . . . . . . . : Media disconnected\n",
      "   Connection-specific DNS Suffix  . : \n",
      "\n",
      "Wireless LAN adapter Local Area Connection* 2:\n",
      "\n",
      "   Media State . . . . . . . . . . . : Media disconnected\n",
      "   Connection-specific DNS Suffix  . : \n",
      "\n",
      "Ethernet adapter ZeroTier One [1d71939404aab439]:\n",
      "\n",
      "   Connection-specific DNS Suffix  . : \n",
      "   Link-local IPv6 Address . . . . . : fe80::654b:2beb:e271:7f0e%12\n",
      "   IPv4 Address. . . . . . . . . . . : 172.22.188.214\n",
      "   Subnet Mask . . . . . . . . . . . : 255.255.0.0\n",
      "   Default Gateway . . . . . . . . . : 25.255.255.254\n",
      "\n",
      "Wireless LAN adapter Wi-Fi:\n",
      "\n",
      "   Connection-specific DNS Suffix  . : \n",
      "   Link-local IPv6 Address . . . . . : fe80::cb31:686f:176e:7873%20\n",
      "   IPv4 Address. . . . . . . . . . . : 172.20.10.3\n",
      "   Subnet Mask . . . . . . . . . . . : 255.255.255.240\n",
      "   Default Gateway . . . . . . . . . : 172.20.10.1\n"
     ]
    }
   ],
   "source": [
    "! ipconfig"
   ]
  },
  {
   "cell_type": "code",
   "execution_count": 35,
   "metadata": {
    "collapsed": false,
    "jupyter": {
     "outputs_hidden": false
    }
   },
   "outputs": [
    {
     "name": "stdout",
     "output_type": "stream",
     "text": [
      "Active code page: 65001\n"
     ]
    }
   ],
   "source": [
    "! chcp 65001"
   ]
  },
  {
   "cell_type": "code",
   "execution_count": 37,
   "metadata": {
    "collapsed": false,
    "jupyter": {
     "outputs_hidden": false
    }
   },
   "outputs": [
    {
     "name": "stdout",
     "output_type": "stream",
     "text": [
      "\n",
      "Pinging google.com [173.194.73.100] with 32 bytes of data:\n",
      "Reply from 173.194.73.100: bytes=32 time=101ms TTL=54\n",
      "Reply from 173.194.73.100: bytes=32 time=107ms TTL=54\n",
      "Reply from 173.194.73.100: bytes=32 time=101ms TTL=54\n",
      "Reply from 173.194.73.100: bytes=32 time=123ms TTL=54\n",
      "\n",
      "Ping statistics for 173.194.73.100:\n",
      "    Packets: Sent = 4, Received = 4, Lost = 0 (0% loss),\n",
      "Approximate round trip times in milli-seconds:\n",
      "    Minimum = 101ms, Maximum = 123ms, Average = 108ms\n"
     ]
    }
   ],
   "source": [
    "! ping google.com"
   ]
  },
  {
   "cell_type": "markdown",
   "metadata": {
    "collapsed": false,
    "jupyter": {
     "outputs_hidden": false
    }
   },
   "source": [
    "# Задание"
   ]
  },
  {
   "cell_type": "markdown",
   "metadata": {
    "collapsed": false,
    "jupyter": {
     "outputs_hidden": false
    }
   },
   "source": [
    "### 4. Напишите функцию, которая производит вычисление по формуле:\n",
    "\\begin{equation*}\n",
    "f = \\frac{9 \\pi t + 10 \\cos(x)}{\\sqrt{t} - \\sin(x)} \\cdot e^{-2t}\n",
    "\\end{equation*}\n"
   ]
  },
  {
   "cell_type": "code",
   "execution_count": 38,
   "metadata": {
    "collapsed": false,
    "jupyter": {
     "outputs_hidden": false
    }
   },
   "outputs": [
    {
     "name": "stdout",
     "output_type": "stream",
     "text": [
      "Ответ: 1.3064158236258556\n"
     ]
    }
   ],
   "source": [
    "import math\n",
    "\n",
    "x = math.pi / 6 # 30 градусов\n",
    "t = 2\n",
    "\n",
    "numerator = 9 * math.pi * t + 10 * math.cos(x) # числитель\n",
    "denominator = math.sqrt(t) - math.sin(x) # знаменатель\n",
    "exp = math.exp(-2*t) # экспонента\n",
    "\n",
    "f = (numerator / denominator) * exp\n",
    "\n",
    "print(f\"Ответ: {f}\")\n"
   ]
  },
  {
   "cell_type": "markdown",
   "metadata": {
    "collapsed": false,
    "jupyter": {
     "outputs_hidden": false
    }
   },
   "source": [
    "### 5. Напишите функцию, которая из трех чисел находит все принадлежащие интервалу от a до b (границы интервала задать произвольно)."
   ]
  },
  {
   "cell_type": "code",
   "execution_count": 40,
   "metadata": {
    "collapsed": false,
    "jupyter": {
     "outputs_hidden": false
    }
   },
   "outputs": [
    {
     "name": "stdout",
     "output_type": "stream",
     "text": [
      "Принадлежат интервалу: [4, 19]\n"
     ]
    }
   ],
   "source": [
    "def findnumbers(nums, a, b):\n",
    "    return [num for num in nums if a <= num <= b]\n",
    "\n",
    "nums = [4, 50, 19]\n",
    "a = 2\n",
    "b = 20\n",
    "\n",
    "result = findnumbers(nums, a, b)\n",
    "print(f\"Принадлежат интервалу: {result}\")"
   ]
  },
  {
   "cell_type": "markdown",
   "metadata": {
    "collapsed": false,
    "jupyter": {
     "outputs_hidden": false
    }
   },
   "source": [
    "### 6. Создайте генератор 20-ти случайных чисел в диапазоне от 0 до 10."
   ]
  },
  {
   "cell_type": "code",
   "execution_count": 43,
   "metadata": {
    "collapsed": false,
    "jupyter": {
     "outputs_hidden": false
    }
   },
   "outputs": [
    {
     "name": "stdout",
     "output_type": "stream",
     "text": [
      "[2, 8, 9, 1, 7, 2, 8, 9, 6, 8, 0, 6, 0, 9, 1, 2, 9, 0, 0, 8]\n"
     ]
    }
   ],
   "source": [
    "import random\n",
    "\n",
    "randnums = [random.randint(0,10) for i in range(20)]\n",
    "\n",
    "print(randnums)"
   ]
  },
  {
   "cell_type": "markdown",
   "metadata": {
    "collapsed": false,
    "jupyter": {
     "outputs_hidden": false
    }
   },
   "source": [
    "### 7. Вычислите сумму 20 элементов последовательности:\n",
    "\\begin{equation*}\n",
    "\\frac{1}{2+3}, \\frac{2}{3+4}, \\frac{3}{4+5}, \\dots\n",
    "\\end{equation*}\n"
   ]
  },
  {
   "cell_type": "code",
   "execution_count": 7,
   "metadata": {
    "collapsed": false,
    "jupyter": {
     "outputs_hidden": false
    }
   },
   "outputs": [
    {
     "name": "stdout",
     "output_type": "stream",
     "text": [
      "Сумма первых 20 элементов последовательности: 8.209021097669307\n"
     ]
    }
   ],
   "source": [
    "total_sum = 0\n",
    "\n",
    "for n in range(1, 21):\n",
    "    term = n / (2 * n + 3)\n",
    "    total_sum += term\n",
    "\n",
    "print(f\"Сумма 20 элементов: {total_sum}\")"
   ]
  },
  {
   "cell_type": "markdown",
   "metadata": {
    "collapsed": false,
    "jupyter": {
     "outputs_hidden": false
    }
   },
   "source": [
    "### Контрольные вопросы\n",
    "1.\tПочему для работы с большими данными и для машинного обучения выбирают язык Python? Перечислите не менее трех причин.\n",
    "\n",
    "Прост в изучении и использовании, большое количество библиотек для обработки данных и машинного обучения, хорошо масштабируется, программы и приложения, написанные на Python, могут эффективно обрабатывать увеличивающиеся объемы данных и увеличивающееся количество пользователей\n",
    "\n",
    "2.\tВ чем особенности среды Jupyter Notebook, почему ее выбирают специалисты по Data Science?\n",
    "\n",
    "Можно пошагово писать и запускать код, анализировать данные и мгновенно получать результаты, поддержка библиотек для создания графиков и диаграмм, все данные, код и выводы находятся в одном файле, что делает исследования легко воспроизводимыми, гибкость в использовании разных форматов данных\n",
    "\n",
    "3.\tПеречислите основные библиотеки Python для машинного обучения\n",
    "\n",
    "NumPy, scikit-learn, pandas,\n",
    "\n",
    "4.\tКакие типы данных Python вы знаете?\n",
    "\n",
    "int, float, str, list, dict, tuple\n",
    "\n",
    "5.\tНазовите основные языковые конструкции Python\n",
    "\n",
    "Операторы ветвления: if, elif, else\n",
    "Циклы: for, while\n",
    "Оператор присваивания\n",
    "\n",
    "6.\tКакое назначение у оператора if … else?\n",
    "\n",
    "Оператор if … else используется для выполнения условий: если условие истинно, выполняется блок if, если ложно — блок else.\n",
    "\n",
    "7.\tКогда заканчивается выполнение оператора while?\n",
    "\n",
    "Цикл while продолжается, пока условие истинно. Он заканчивается, когда условие становится ложным.\n",
    "\n",
    "8.\tКакие способы задания функций есть в Python?\n",
    "\n",
    "С помощью ключевого слова def для создания обычных функций\n",
    "С помощью лямбда-функций для создания анонимных функций\n",
    "\n",
    "9.\tЧто такое Лямбда-функция?\n",
    "\n",
    "Это анонимная функция, которая может принимать любое количество аргументов, но имеет только одно выражение\n",
    "\n",
    "10.\tКакая библиотека Python отвечает за выполнение основным математических функций?\n",
    "\n",
    "Библиотека math\n",
    "\n",
    "11.\tНазовите дополнительные возможности использования среды Jupyter Notebook\n",
    "\n",
    "Вставка HTML и LaTeX для оформления текста и математических формул, визуализация данных с помощью графиков, вставка Markdown текста для документирования\n",
    "\n"
   ]
  },
  {
   "cell_type": "code",
   "execution_count": null,
   "metadata": {
    "collapsed": false,
    "jupyter": {
     "outputs_hidden": false
    }
   },
   "outputs": [],
   "source": []
  }
 ],
 "metadata": {
  "kernelspec": {
   "display_name": "Python 3 (ipykernel)",
   "language": "python",
   "name": "python3"
  },
  "language_info": {
   "codemirror_mode": {
    "name": "ipython",
    "version": 3
   },
   "file_extension": ".py",
   "mimetype": "text/x-python",
   "name": "python",
   "nbconvert_exporter": "python",
   "pygments_lexer": "ipython3",
   "version": "3.10.4"
  }
 },
 "nbformat": 4,
 "nbformat_minor": 4
}
